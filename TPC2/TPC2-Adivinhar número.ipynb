{
 "cells": [
  {
   "cell_type": "code",
   "execution_count": 1,
   "metadata": {},
   "outputs": [
    {
     "name": "stdout",
     "output_type": "stream",
     "text": [
      "O número é:  51\n",
      "Se sim, insira S;\n",
      "Se não, insira menor se for menor ou insira maior, se for maior: menor\n",
      "O número é:  26\n",
      "Se sim, insira S;\n",
      "Se não, insira menor se for menor ou insira maior, se for maior: menor\n",
      "O número é:  13\n",
      "Se sim, insira S;\n",
      "Se não, insira menor se for menor ou insira maior, se for maior: maior\n",
      "O número é:  20\n",
      "Se sim, insira S;\n",
      "Se não, insira menor se for menor ou insira maior, se for maior: menor\n",
      "O número é:  17\n",
      "Se sim, insira S;\n",
      "Se não, insira menor se for menor ou insira maior, se for maior: menor\n",
      "O número é:  15\n",
      "Se sim, insira S;\n",
      "Se não, insira menor se for menor ou insira maior, se for maior: S\n",
      "Obrigada por jogar.\n"
     ]
    }
   ],
   "source": [
    "def adivinharnumero():\n",
    "    lista=[0, 1, 2, 3, 4, 5, 6, 7, 8, 9, 10, 11, 12, 13, 14, 15, 16, 17, 18, 19,\n",
    "           20, 21, 22, 23, 24, 25, 26, 27, 28, 29, 30, 31, 32, 33, 34, 35, 36, 37,\n",
    "           38, 39, 40, 41, 42, 43, 44, 45, 46, 47, 48, 49, 50, 51, 52, 53, 54, 55, 56, 57, 58, 59, 60, 61, 62, 63, 64, 65, 66, 67, 68, 69, 70, 71, 72, 73, 74, 75, 76, 77, 78, 79, 80, 81, 82, 83, 84, 85, 86, 87, 88, 89, 90, 91, 92, 93, 94, 95, 96, 97, 98, 99, 100]    \n",
    "    t=False\n",
    "    while t==False:\n",
    "        if len(lista)%2==0:\n",
    "            c=int(len(lista)/2)\n",
    "        else:\n",
    "            c=int(0.5+len(lista)/2)\n",
    "        print(\"O número é: \", lista[c])\n",
    "        direcao=input(str(\"\"\"Se sim, insira S;\n",
    "Se não, insira menor se for menor ou insira maior, se for maior: \"\"\"))\n",
    "        if direcao==\"menor\":\n",
    "            lista=lista[:c]\n",
    "        elif direcao==\"maior\":\n",
    "            lista=lista[c:]\n",
    "        else :\n",
    "            print(\"Obrigada por jogar.\")\n",
    "            t=True\n",
    "adivinharnumero()"
   ]
  },
  {
   "cell_type": "code",
   "execution_count": null,
   "metadata": {},
   "outputs": [],
   "source": []
  }
 ],
 "metadata": {
  "kernelspec": {
   "display_name": "Python 3",
   "language": "python",
   "name": "python3"
  },
  "language_info": {
   "codemirror_mode": {
    "name": "ipython",
    "version": 3
   },
   "file_extension": ".py",
   "mimetype": "text/x-python",
   "name": "python",
   "nbconvert_exporter": "python",
   "pygments_lexer": "ipython3",
   "version": "3.8.3"
  }
 },
 "nbformat": 4,
 "nbformat_minor": 4
}
