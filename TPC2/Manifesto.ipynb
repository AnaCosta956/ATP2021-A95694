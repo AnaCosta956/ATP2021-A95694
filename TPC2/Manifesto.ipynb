{
 "cells": [
  {
   "cell_type": "markdown",
   "metadata": {},
   "source": [
    "**Identificador:** Trabalho de casa 2\n",
    "\n",
    "**Título:** Adivinhador de números\n",
    "\n",
    "**Data Início:** 2021-10-16                                           **Data Fim:** 2021-10-20\n",
    "\n",
    "**Supervisor:** José Carlos Ramalho, https://www.di.uminho.pt/~jcr/   **Autor:** Ana Carolina Faria da Costa, A95694\n",
    "\n",
    "**Resumo:**\n",
    "Algoritmo que opermite ao computador adivinhar o número escolhido pelo utilizador. A cada ronda do ciclo, o computador escolhe o número que está no meio da lista, dependendo se o número escolhido pelo jogador for maior ou menor, a nova lista corresponderá à metade inferior ou superior da lista inicial. "
   ]
  },
  {
   "cell_type": "code",
   "execution_count": null,
   "metadata": {},
   "outputs": [],
   "source": []
  }
 ],
 "metadata": {
  "kernelspec": {
   "display_name": "Python 3",
   "language": "python",
   "name": "python3"
  },
  "language_info": {
   "codemirror_mode": {
    "name": "ipython",
    "version": 3
   },
   "file_extension": ".py",
   "mimetype": "text/x-python",
   "name": "python",
   "nbconvert_exporter": "python",
   "pygments_lexer": "ipython3",
   "version": "3.8.3"
  }
 },
 "nbformat": 4,
 "nbformat_minor": 4
}
