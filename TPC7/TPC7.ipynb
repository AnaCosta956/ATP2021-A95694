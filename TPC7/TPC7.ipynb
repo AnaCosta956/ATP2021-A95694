{
 "cells": [
  {
   "cell_type": "markdown",
   "metadata": {},
   "source": [
    "## Dataset\n",
    "\n",
    "Para a resolução dos exercícios desta ficha, descarrega o dataset de alunos do site da UC.\n",
    "\n",
    "### Estrutura do dataset\n",
    "O dataset tem a seguinte estrutura:\n",
    "\n",
    "```\n",
    "id_aluno,nome,curso,tpc1,tpc2,tpc3,tpc4\n",
    "\"a1\",\"Aysha Melanie Gilberto\",\"LEI\",12,8,19,8\n",
    "\"a2\",\"Igor André Cantanhede\",\"ENGFIS\",12,16,18,20\n",
    "\"a3\",\"Laurénio Narciso\",\"ENGFIS\",8,14,15,14\n",
    "\"a4\",\"Jasnoor Casegas\",\"LCC\",14,20,17,11\n",
    "\"a5\",\"Tawseef Rebouças\",\"ENGBIOM\",13,14,13,17\n",
    "\"a6\",\"Eryk Clementino\",\"LEI\",10,19,11,14\n",
    "...\n",
    "```"
   ]
  },
  {
   "cell_type": "markdown",
   "metadata": {},
   "source": [
    "## Leitura (exercício 1)\n",
    "\n",
    "Depois de pensares num modelo adequado especifica a função que lê o ficheiro e povoa esse modelo."
   ]
  },
  {
   "cell_type": "code",
   "execution_count": 3,
   "metadata": {},
   "outputs": [],
   "source": [
    "# Descreve em texto o teu modelo\n",
    "\n",
    "# Leitura/carregamento da informação do ficheiro\n",
    "def lerDataset(fnome):\n",
    "    bd=[]\n",
    "    f=open(fnome, encoding=\"utf-8\")\n",
    "    f.readline()\n",
    "    for linha in f:\n",
    "        novaLinha=linha.replace(\"\\n\",\"\")\n",
    "        campos=novaLinha.split(\",\")\n",
    "        aluno={}\n",
    "        aluno[\"id\"]=campos[0]\n",
    "        aluno[\"nome\"]=campos[1]\n",
    "        aluno[\"curso\"]=campos[2]\n",
    "        listaTPC=[]\n",
    "        for tpc in campos[3:]:\n",
    "            listaTPC.append(int(tpc))\n",
    "        aluno[\"tpc\"]=listaTPC\n",
    "        bd.append(aluno)\n",
    "    return bd\n",
    "\n",
    "BD=lerDataset(\"alunos.csv\")"
   ]
  },
  {
   "cell_type": "markdown",
   "metadata": {},
   "source": [
    "## Listagem (exercício 2)\n",
    "\n",
    "Especifica uma função que faça a listagem no monitor dos vários registos de informação.\n",
    "Tenta dar a forma duma tabela em que as colunas têm todas a mesma dimensão."
   ]
  },
  {
   "cell_type": "code",
   "execution_count": 3,
   "metadata": {},
   "outputs": [
    {
     "name": "stdout",
     "output_type": "stream",
     "text": [
      "id      |nome                     |curso           |média\n",
      "----------------------------------------------------------\n",
      "\"a1\"|\"Aysha Melanie Gilberto\"|\"LEI\"|11.75\n",
      "\"a2\"|\"Igor André Cantanhede\"|\"ENGFIS\"|16.5\n",
      "\"a3\"|\"Laurénio Narciso\"|\"ENGFIS\"|12.75\n",
      "\"a4\"|\"Jasnoor Casegas\"|\"LCC\"|15.5\n",
      "\"a5\"|\"Tawseef Rebouças\"|\"ENGBIOM\"|14.25\n",
      "\"a6\"|\"Eryk Clementino\"|\"LEI\"|13.5\n",
      "\"a7\"|\"Ianna Noivo\"|\"ENGBIOM\"|15.75\n",
      "\"a8\"|\"Ayla Thaissa Reina\"|\"ENGBIOM\"|11.5\n",
      "\"a9\"|\"Cássia Viviane Coitã\"|\"ENGFIS\"|13.0\n",
      "\"a10\"|\"Koby Vindima\"|\"LEI\"|14.0\n",
      "\"a11\"|\"Gustavo Martim Hernandez\"|\"ENGBIOM\"|11.0\n",
      "\"a12\"|\"Siddarta Beiriz\"|\"LEI\"|14.75\n",
      "\"a13\"|\"Daniela Patrícia Montes\"|\"ENGBIOM\"|16.75\n",
      "\"a14\"|\"Kaylla Pessego\"|\"LCC\"|14.0\n",
      "\"a15\"|\"Bianca Cristina Primitivo\"|\"ENGBIOM\"|13.25\n",
      "\"a16\"|\"Magna Galhardo\"|\"ENGFIS\"|15.25\n",
      "\"a17\"|\"Grace Isabel Patriarca\"|\"LCC\"|12.75\n",
      "\"a18\"|\"Saubhagya Buco\"|\"LEI\"|15.25\n",
      "\"a19\"|\"Ivo Vicente Boisa\"|\"ENGBIOM\"|13.75\n",
      "\"a20\"|\"Vivaan Castilhos\"|\"ENGFIS\"|13.0\n",
      "\"a21\"|\"Layana Camejo\"|\"ENGFIS\"|14.75\n",
      "\"a22\"|\"Mahdi Menoita\"|\"ENGFIS\"|12.75\n",
      "\"a23\"|\"Yifan Cortinado\"|\"LEI\"|15.25\n",
      "\"a24\"|\"Éder Sodré\"|\"ENGFIS\"|14.0\n",
      "\"a25\"|\"Dhriti Magano\"|\"ENGFIS\"|14.25\n",
      "\"a26\"|\"Steve Devesa\"|\"ENGBIOM\"|11.75\n",
      "\"a27\"|\"Lisandro Mariano Picassinos\"|\"ENGFIS\"|12.25\n",
      "\"a28\"|\"Itiel Quinoy\"|\"LEI\"|13.25\n",
      "\"a29\"|\"Pranika Reimoo\"|\"LEI\"|14.0\n",
      "\"a30\"|\"Manaia Viseu\"|\"ENGFIS\"|12.75\n",
      "\"a31\"|\"Eva Manuel Caio\"|\"ENGFIS\"|16.0\n",
      "\"a32\"|\"Ariane Sofia Foja\"|\"LEI\"|17.5\n",
      "\"a33\"|\"Jaime António Pauseiro\"|\"LCC\"|12.5\n",
      "\"a34\"|\"Tanisha Marzagoo\"|\"ENGBIOM\"|15.0\n",
      "\"a35\"|\"Siyon Anca\"|\"LEI\"|13.75\n",
      "\"a36\"|\"Diana Beatriz Boavista\"|\"LCC\"|16.5\n",
      "\"a37\"|\"Elisiário Saberio\"|\"ENGFIS\"|16.25\n",
      "\"a38\"|\"Maira Brites\"|\"ENGFIS\"|15.25\n",
      "\"a39\"|\"Victória Gabriela Incenso\"|\"LEI\"|13.0\n",
      "\"a40\"|\"Najua Serôdio\"|\"LCC\"|15.0\n",
      "\"a41\"|\"Lachezar Rosas\"|\"ENGBIOM\"|16.75\n",
      "\"a42\"|\"Kattleya Trigueiro\"|\"ENGFIS\"|16.0\n",
      "\"a43\"|\"Tatiana Guiomar Maricoto\"|\"LCC\"|13.25\n",
      "\"a44\"|\"Mélanie Daniela Bugalhão\"|\"LCC\"|15.25\n",
      "\"a45\"|\"Imayame Hespanha\"|\"ENGFIS\"|16.75\n",
      "\"a46\"|\"Yuri Gabriel Baganha\"|\"LCC\"|15.25\n",
      "\"a47\"|\"Moisés João Cornelio\"|\"LEI\"|18.0\n",
      "\"a48\"|\"Nazir Assif Trinta\"|\"LEI\"|12.0\n",
      "\"a49\"|\"Karamjot Arezes\"|\"LEI\"|12.75\n",
      "\"a50\"|\"Rishit Justa\"|\"ENGBIOM\"|9.75\n",
      "\"a51\"|\"Iara de Jesus Gonçalo\"|\"ENGFIS\"|12.0\n",
      "\"a52\"|\"Stepfan Owusu Lercas\"|\"LEI\"|14.25\n",
      "\"a53\"|\"Abner Umbelina\"|\"ENGBIOM\"|14.75\n",
      "\"a54\"|\"Dânia Lucy Montelobo\"|\"LEI\"|15.75\n",
      "\"a55\"|\"Myla Lopez\"|\"ENGFIS\"|14.5\n",
      "\"a56\"|\"Hakeem Brazão\"|\"LEI\"|17.25\n",
      "\"a57\"|\"Quinn Aveiro\"|\"ENGBIOM\"|13.75\n",
      "\"a58\"|\"Etienne Constentino\"|\"ENGBIOM\"|11.25\n",
      "\"a59\"|\"Emanuel Marcos Delfina\"|\"LEI\"|11.25\n",
      "\"a60\"|\"Mariana Catarina Ramalheira\"|\"ENGBIOM\"|16.5\n",
      "\"a61\"|\"Bradley Tabau\"|\"LCC\"|15.75\n",
      "\"a62\"|\"Ahmadou Bamba Calcinha\"|\"LCC\"|14.25\n",
      "\"a63\"|\"Francisco Pedro Derresa\"|\"ENGFIS\"|14.5\n",
      "\"a64\"|\"Gil Miguel Lima\"|\"ENGBIOM\"|14.25\n",
      "\"a65\"|\"Leonor Pedro Carqueijeiro\"|\"ENGBIOM\"|13.75\n",
      "\"a66\"|\"Genrikh Maximovich Vila-Chã\"|\"ENGFIS\"|12.25\n",
      "\"a67\"|\"Mayra Larissa Rolo\"|\"LCC\"|14.5\n",
      "\"a68\"|\"Leandro David Dunhoo\"|\"ENGBIOM\"|13.75\n",
      "\"a69\"|\"Adele Belchior\"|\"ENGBIOM\"|15.25\n",
      "\"a70\"|\"Frantceska Borreca\"|\"ENGFIS\"|14.0\n",
      "\"a71\"|\"Derrick Urias\"|\"ENGFIS\"|10.75\n",
      "\"a72\"|\"Ana Gabriel Quirino\"|\"LCC\"|13.5\n",
      "\"a73\"|\"Carolina Antoo\"|\"ENGBIOM\"|16.25\n",
      "\"a74\"|\"Vânia Sofia Porfirio\"|\"ENGBIOM\"|17.5\n",
      "\"a75\"|\"Dárcio Wosvaldo Tudela\"|\"LEI\"|13.25\n",
      "\"a76\"|\"Zhara Couxão\"|\"ENGFIS\"|13.0\n",
      "\"a77\"|\"Tomé Ferrito\"|\"LCC\"|14.5\n",
      "\"a78\"|\"Iasmin Paloma Chaveiro\"|\"LCC\"|12.75\n",
      "\"a79\"|\"Sadagi Cruto\"|\"ENGBIOM\"|15.75\n",
      "\"a80\"|\"Maria Carolina Josué\"|\"ENGFIS\"|18.0\n",
      "\"a81\"|\"Quaresma Lancastre\"|\"ENGBIOM\"|15.25\n",
      "\"a82\"|\"Evaldir Gervasio\"|\"ENGFIS\"|14.5\n",
      "\"a83\"|\"Dolorinda Adolfo\"|\"ENGFIS\"|13.75\n",
      "\"a84\"|\"Laudário Frasão\"|\"LCC\"|17.0\n",
      "\"a85\"|\"Rómula Jeronimo\"|\"ENGFIS\"|11.5\n",
      "\"a86\"|\"Clésio Rodeiro\"|\"LCC\"|13.0\n",
      "\"a87\"|\"Feliciano José Avis\"|\"ENGFIS\"|9.75\n",
      "\"a88\"|\"Afonso Adriano Marca\"|\"ENGBIOM\"|12.75\n",
      "\"a89\"|\"Victória Miguel Rosete\"|\"ENGFIS\"|13.0\n",
      "\"a90\"|\"Tome Teroso\"|\"ENGFIS\"|11.25\n",
      "\"a91\"|\"Constança Filipa Melado\"|\"LEI\"|12.5\n",
      "\"a92\"|\"Madalena Jesus Alfaiate\"|\"LEI\"|14.25\n",
      "\"a93\"|\"Bivhan Reimbau\"|\"LCC\"|12.0\n",
      "\"a94\"|\"Viviana Sofia Gaspar\"|\"ENGBIOM\"|16.5\n",
      "\"a95\"|\"Íris Soraia Chiote\"|\"LEI\"|13.75\n",
      "\"a96\"|\"Anaïs Sintra\"|\"LCC\"|14.75\n",
      "\"a97\"|\"Salvador Banaca\"|\"LCC\"|13.25\n",
      "\"a98\"|\"Guilherme Matias Almeirão\"|\"ENGFIS\"|11.5\n",
      "\"a99\"|\"Xavier Luís Bulha\"|\"ENGFIS\"|12.0\n",
      "\"a100\"|\"Tude Searas\"|\"LEI\"|14.75\n"
     ]
    }
   ],
   "source": [
    "# Listagem da informação\n",
    "def listarDataset(bd):\n",
    "    print(\"id      |nome                     |curso           |média\")\n",
    "    print(\"----------------------------------------------------------\")\n",
    "    for a in bd:\n",
    "        media=sum(a[\"tpc\"])/len(a[\"tpc\"])\n",
    "        print(a[\"id\"]+\"|\"+a[\"nome\"]+\"|\"+a[\"curso\"]+\"|\"+str(media))\n",
    "        \n",
    "listarDataset(BD)"
   ]
  },
  {
   "cell_type": "markdown",
   "metadata": {},
   "source": [
    "## Distribuição por curso (exercício 5)\n",
    "\n",
    "Especifica uma função que dá como resultado uma lista de pares indicando quantos alunos há em cada curso."
   ]
  },
  {
   "cell_type": "code",
   "execution_count": 7,
   "metadata": {},
   "outputs": [
    {
     "name": "stdout",
     "output_type": "stream",
     "text": [
      "{'\"LEI\"': 23, '\"ENGFIS\"': 32, '\"LCC\"': 20, '\"ENGBIOM\"': 25}\n"
     ]
    }
   ],
   "source": [
    "def distribPorCurso(bd):\n",
    "    distribuicao = {}\n",
    "    for a in bd:\n",
    "        if a[\"curso\"] in distribuicao.keys():\n",
    "            distribuicao[a[\"curso\"]]=distribuicao[a[\"curso\"]]+1\n",
    "        else:\n",
    "            distribuicao[a[\"curso\"]]=1\n",
    "    return distribuicao\n",
    "print(distribPorCurso(BD))"
   ]
  },
  {
   "cell_type": "markdown",
   "metadata": {},
   "source": [
    "## Distribuição por médias (exercício 6)\n",
    "\n",
    "Especifica uma função que dá como resultado uma lista de pares, média e número de alunos com essa média (considera o valor inteiro da média)."
   ]
  },
  {
   "cell_type": "code",
   "execution_count": 5,
   "metadata": {},
   "outputs": [
    {
     "name": "stdout",
     "output_type": "stream",
     "text": [
      "Média Inteira: Nº de alunos\n",
      "{'12': 11, '17': 9, '13': 20, '16': 9, '14': 20, '11': 5, '15': 20, '18': 4, '10': 2}\n"
     ]
    }
   ],
   "source": [
    "def distribPorMedia(bd):\n",
    "    distribuicao = {}\n",
    "    for a in bd:\n",
    "        media=sum(a[\"tpc\"])/len(a[\"tpc\"])\n",
    "        if media%1<0.5:\n",
    "            media=str(int(media))\n",
    "        else:\n",
    "            media=str(int(media)+1)\n",
    "        if media in distribuicao.keys():\n",
    "            distribuicao[media]=distribuicao[media]+1\n",
    "        else:\n",
    "            distribuicao[media]=1\n",
    "    return distribuicao\n",
    "print(\"Média Inteira: Nº de alunos\")\n",
    "print(distribPorMedia(BD))"
   ]
  },
  {
   "cell_type": "markdown",
   "metadata": {},
   "source": [
    "# Gráficos\n",
    "\n",
    "## Gráfico da distribuição por curso (exercício 7)\n",
    "\n",
    "Especifica uma função que faz o plot dum gráfico com a distribuição de alunos por curso."
   ]
  },
  {
   "cell_type": "code",
   "execution_count": 8,
   "metadata": {},
   "outputs": [
    {
     "data": {
      "image/png": "[encoded data removed]",
      "text/plain": [
       "<Figure size 432x288 with 1 Axes>"
      ]
     },
     "metadata": {
      "needs_background": "light"
     },
     "output_type": "display_data"
    }
   ],
   "source": [
    "def plotDistribPorCurso(bd):\n",
    "    import matplotlib.pyplot as plt\n",
    "    basedados=distribPorCurso(bd)\n",
    "    left = [] \n",
    "    height = []\n",
    "    tick_label=[]\n",
    "    i=1\n",
    "    for curso in basedados:\n",
    "        left.append(i)\n",
    "        i=i+2\n",
    "        height.append(basedados[curso])\n",
    "        tick_label.append(curso)\n",
    "   \n",
    "    plt.bar(left, height, tick_label = tick_label,\n",
    "        width = 0.8, color = ['blue'])\n",
    "plotDistribPorCurso(BD)"
   ]
  },
  {
   "cell_type": "markdown",
   "metadata": {},
   "source": [
    "## Gráfico da distribuição por média (exercício 8)\n",
    "\n",
    "Especifica uma função que faz o plot dum gráfico com a distribuição de alunos por média."
   ]
  },
  {
   "cell_type": "code",
   "execution_count": 9,
   "metadata": {},
   "outputs": [
    {
     "data": {
      "image/png": "[encoded data removed]",
      "text/plain": [
       "<Figure size 432x288 with 1 Axes>"
      ]
     },
     "metadata": {
      "needs_background": "light"
     },
     "output_type": "display_data"
    }
   ],
   "source": [
    "def plotDistribPorMedia(bd):\n",
    "    import matplotlib.pyplot as plt\n",
    "    basedados=distribPorMedia(bd)\n",
    "    listamedias = [] \n",
    "    numalunos = []\n",
    "    for media in basedados:\n",
    "        listamedias.append(media)\n",
    "    x=sorted(listamedias)\n",
    "    for medias in x:\n",
    "        numalunos.append(basedados[medias])\n",
    "    plt.plot(x, numalunos,color=\"black\",linestyle='dashed', linewidth = 3,\n",
    "         marker='o', markerfacecolor='blue', markersize=8)\n",
    "    plt.xlabel('Média')\n",
    "    plt.ylabel(\"Nº de alunos\")\n",
    "    plt.show()\n",
    "plotDistribPorMedia(BD)"
   ]
  }
 ],
 "metadata": {
  "interpreter": {
   "hash": "aee8b7b246df8f9039afb4144a1f6fd8d2ca17a180786b69acc140d282b71a49"
  },
  "kernelspec": {
   "display_name": "Python 3 (ipykernel)",
   "language": "python",
   "name": "python3"
  },
  "language_info": {
   "codemirror_mode": {
    "name": "ipython",
    "version": 3
   },
   "file_extension": ".py",
   "mimetype": "text/x-python",
   "name": "python",
   "nbconvert_exporter": "python",
   "pygments_lexer": "ipython3",
   "version": "3.9.7"
  }
 },
 "nbformat": 4,
 "nbformat_minor": 2
}
