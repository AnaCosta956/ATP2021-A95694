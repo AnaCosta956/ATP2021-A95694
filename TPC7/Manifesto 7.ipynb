{
 "cells": [
  {
   "cell_type": "markdown",
   "metadata": {},
   "source": [
    "**Identificador:** Trabalho de casa 7\n",
    "\n",
    "**Título:** Manipulação de base de dados\n",
    "\n",
    "**Data Início:** 2021-11-27                                               **Data Fim:** 2021-12-01\n",
    "\n",
    "**Supervisor:** José Carlos Ramalho, https://www.di.uminho.pt/~jcr/       **Autor:** Ana Carolina Faria da Costa, A95694\n",
    "\n",
    "**Resumo:**\n",
    "\n",
    "Criação das função que permitem criar gráficos das distribuições de alunos por curso e por média das notas dos tpcs."
   ]
  }
 ],
 "metadata": {
  "kernelspec": {
   "display_name": "Python 3 (ipykernel)",
   "language": "python",
   "name": "python3"
  },
  "language_info": {
   "codemirror_mode": {
    "name": "ipython",
    "version": 3
   },
   "file_extension": ".py",
   "mimetype": "text/x-python",
   "name": "python",
   "nbconvert_exporter": "python",
   "pygments_lexer": "ipython3",
   "version": "3.9.7"
  }
 },
 "nbformat": 4,
 "nbformat_minor": 4
}
