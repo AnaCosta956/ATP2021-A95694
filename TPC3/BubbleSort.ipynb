{
 "cells": [
  {
   "cell_type": "code",
   "execution_count": null,
   "metadata": {},
   "outputs": [],
   "source": [
    "def bubbleSort(lista):\n",
    "    stop=1\n",
    "    while stop==1:\n",
    "        stop=0\n",
    "        i=0\n",
    "        while i<len(lista)-1:\n",
    "            if lista[i]>lista[i+1]:\n",
    "                temp=lista[i+1]\n",
    "                lista[i+1]=lista[i]\n",
    "                lista[i]=temp\n",
    "                i=i+1\n",
    "                stop=1\n",
    "            else:\n",
    "                i=i+1\n",
    "    return lista\n"
   ]
  }
 ],
 "metadata": {
  "kernelspec": {
   "display_name": "Python 3",
   "language": "python",
   "name": "python3"
  },
  "language_info": {
   "codemirror_mode": {
    "name": "ipython",
    "version": 3
   },
   "file_extension": ".py",
   "mimetype": "text/x-python",
   "name": "python",
   "nbconvert_exporter": "python",
   "pygments_lexer": "ipython3",
   "version": "3.8.3"
  }
 },
 "nbformat": 4,
 "nbformat_minor": 4
}
