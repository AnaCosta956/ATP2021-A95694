{
 "cells": [
  {
   "cell_type": "markdown",
   "metadata": {},
   "source": [
    "**Identificador:** Trabalho de casa 3\n",
    "\n",
    "**Título:** BubbleSort\n",
    "\n",
    "**Data Início:** 2021-10-23                                           **Data Fim:** 2021-10-26\n",
    "\n",
    "**Supervisor:** José Carlos Ramalho, https://www.di.uminho.pt/~jcr/   **Autor:** Ana Carolina Faria da Costa, A95694\n",
    "\n",
    "**Resumo:**\n",
    "Algoritmo que ordena uma lista, efetuando trocas entre um valor e o valor seguinte da lista, se este for menor que o primeiro.\n",
    "Enquanto não passar uma jogada completa sem serem efetuadas trocas, o computador percorre a lista efetuando trocas se for necessário."
   ]
  }
 ],
 "metadata": {
  "kernelspec": {
   "display_name": "Python 3",
   "language": "python",
   "name": "python3"
  },
  "language_info": {
   "codemirror_mode": {
    "name": "ipython",
    "version": 3
   },
   "file_extension": ".py",
   "mimetype": "text/x-python",
   "name": "python",
   "nbconvert_exporter": "python",
   "pygments_lexer": "ipython3",
   "version": "3.8.3"
  }
 },
 "nbformat": 4,
 "nbformat_minor": 4
}
