{
 "cells": [
  {
   "cell_type": "markdown",
   "metadata": {},
   "source": [
    "**Identificador:** Trabalho de casa 5\n",
    "\n",
    "**Título:** Aplicação para manipulação de polinómios\n",
    "\n",
    "**Data Início:** 2021-11-13                                           **Data Fim:** 2021-11-17\n",
    "\n",
    "**Supervisor:** José Carlos Ramalho, https://www.di.uminho.pt/~jcr/   **Autor:** Ana Carolina Faria da Costa, A95694\n",
    "\n",
    "**Resumo:**\n",
    "Algoritmo que permite manipular polinomios. Inclui as funções para criar o polinomio, ver o polinomio, calcular o seu grau, calcular o valor do polinomio num ponto, calcular a derivada, ordenar o polinomio por grau e simplifica-lo quando possui mais do que um termo com o mesmo expoente."
   ]
  }
 ],
 "metadata": {
  "kernelspec": {
   "display_name": "Python 3",
   "language": "python",
   "name": "python3"
  },
  "language_info": {
   "codemirror_mode": {
    "name": "ipython",
    "version": 3
   },
   "file_extension": ".py",
   "mimetype": "text/x-python",
   "name": "python",
   "nbconvert_exporter": "python",
   "pygments_lexer": "ipython3",
   "version": "3.8.3"
  }
 },
 "nbformat": 4,
 "nbformat_minor": 4
}
