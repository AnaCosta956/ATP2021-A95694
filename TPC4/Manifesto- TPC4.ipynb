{
 "cells": [
  {
   "cell_type": "markdown",
   "metadata": {},
   "source": [
    "**Identificador:** Trabalho de casa 4\n",
    "\n",
    "**Título:** Aplicação para manipulação de frações\n",
    "\n",
    "**Data Início:** 2021-11-06                                           **Data Fim:** 2021-11-09\n",
    "\n",
    "**Supervisor:** José Carlos Ramalho, https://www.di.uminho.pt/~jcr/   **Autor:** Ana Carolina Faria da Costa, A95694\n",
    "\n",
    "**Resumo:**\n",
    "Algoritmo que permite manipular frações, efetuar as 4 operações básicas (soma,subtração, multiplicação e divisão) com o número de frações que o utilizador desejar, permite támbem simplificar frações e calcular o maior fator de simplificação da fração inserida."
   ]
  }
 ],
 "metadata": {
  "kernelspec": {
   "display_name": "Python 3",
   "language": "python",
   "name": "python3"
  },
  "language_info": {
   "codemirror_mode": {
    "name": "ipython",
    "version": 3
   },
   "file_extension": ".py",
   "mimetype": "text/x-python",
   "name": "python",
   "nbconvert_exporter": "python",
   "pygments_lexer": "ipython3",
   "version": "3.8.3"
  }
 },
 "nbformat": 4,
 "nbformat_minor": 4
}
