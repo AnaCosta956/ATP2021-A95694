{
 "cells": [
  {
   "cell_type": "code",
   "execution_count": 19,
   "metadata": {},
   "outputs": [
    {
     "name": "stdout",
     "output_type": "stream",
     "text": [
      "\n",
      "Operações disponiveis:\n",
      "Operações disponiveis:\n",
      "(1)Criar um polinómio;\n",
      "(2)Ver polinómio atual;\n",
      "(3)Calcular o grau do polinómio;\n",
      "(4)Calcular o valor do polinómio num ponto;\n",
      "(5)Calcular a derivada do polinómio;\n",
      "(6)Simplificar o polinómio;\n",
      "(7)Visualizar o gráfico do polinómio;\n",
      "(0)Sair\n",
      "Insira a operação que pretende realizar: 1\n",
      "Quantos fatores tem o polinómio? 2\n",
      "Insira o coeficiente do termo: 2\n",
      "Insira o expoente do termo (para termos independentes insira 0): 3\n",
      "Insira o coeficiente do termo: 4\n",
      "Insira o expoente do termo (para termos independentes insira 0): 2\n",
      "\n",
      "Operações disponiveis:\n",
      "Operações disponiveis:\n",
      "(1)Criar um polinómio;\n",
      "(2)Ver polinómio atual;\n",
      "(3)Calcular o grau do polinómio;\n",
      "(4)Calcular o valor do polinómio num ponto;\n",
      "(5)Calcular a derivada do polinómio;\n",
      "(6)Simplificar o polinómio\n",
      "(7)Visualizar o gráfico do polinómio;\n",
      "(0)Sair\n",
      "Insira a operação que pretende realizar: 7\n",
      "Qual o intervalo em x que deseja visualizar?10\n",
      "Qual o intervalo em y que deseja visualizar?10\n"
     ]
    },
    {
     "data": {
      "image/png": "[encoded data removed]",
      "text/plain": [
       "<Figure size 432x288 with 1 Axes>"
      ]
     },
     "metadata": {
      "needs_background": "light"
     },
     "output_type": "display_data"
    },
    {
     "name": "stdout",
     "output_type": "stream",
     "text": [
      "Está satizfeito com a janela de visualização escolhida? \n",
      "            Insira (S) para voltar ao menu ou (N) para escolher uma nova janela de visualização.N\n",
      "Qual o intervalo em x que deseja visualizar?20\n",
      "Qual o intervalo em y que deseja visualizar?10\n"
     ]
    },
    {
     "data": {
      "image/png": "[encoded data removed]",
      "text/plain": [
       "<Figure size 432x288 with 1 Axes>"
      ]
     },
     "metadata": {
      "needs_background": "light"
     },
     "output_type": "display_data"
    },
    {
     "name": "stdout",
     "output_type": "stream",
     "text": [
      "Está satizfeito com a janela de visualização escolhida? \n",
      "            Insira (S) para voltar ao menu ou (N) para escolher uma nova janela de visualização.N\n",
      "Qual o intervalo em x que deseja visualizar?3\n",
      "Qual o intervalo em y que deseja visualizar?5\n"
     ]
    },
    {
     "data": {
      "image/png": "[encoded data removed]",
      "text/plain": [
       "<Figure size 432x288 with 1 Axes>"
      ]
     },
     "metadata": {
      "needs_background": "light"
     },
     "output_type": "display_data"
    },
    {
     "name": "stdout",
     "output_type": "stream",
     "text": [
      "Está satizfeito com a janela de visualização escolhida? \n",
      "            Insira (S) para voltar ao menu ou (N) para escolher uma nova janela de visualização.S\n",
      "\n",
      "Operações disponiveis:\n",
      "Operações disponiveis:\n",
      "(1)Criar um polinómio;\n",
      "(2)Ver polinómio atual;\n",
      "(3)Calcular o grau do polinómio;\n",
      "(4)Calcular o valor do polinómio num ponto;\n",
      "(5)Calcular a derivada do polinómio;\n",
      "(6)Simplificar o polinómio\n",
      "(7)Visualizar o gráfico do polinómio;\n",
      "(0)Sair\n",
      "Insira a operação que pretende realizar: 0\n"
     ]
    }
   ],
   "source": [
    "def criarTermo(coef,exp):\n",
    "    return (coef,exp)\n",
    "\n",
    "def pedirTermo():\n",
    "    coef=int(input(\"Insira o coeficiente do termo: \"))\n",
    "    exp=int(input(\"Insira o expoente do termo (para termos independentes insira 0): \"))\n",
    "    return criarTermo(coef,exp)\n",
    "    \n",
    "def criarPolinomio():\n",
    "    p=[]\n",
    "    fatores=int(input(\"Quantos fatores tem o polinómio? \"))\n",
    "    for i in range(fatores):\n",
    "        inserirTermo(p,pedirTermo())\n",
    "    return p\n",
    "\n",
    "def inserirTermo(p,t):\n",
    "    p.append(t)\n",
    "    \n",
    "    \n",
    "def verTermo(t):\n",
    "    c,e=t\n",
    "    if e==0:\n",
    "        return (str(c))\n",
    "    if e==1:\n",
    "        return (str(c)+\"x\")\n",
    "    if c==1:\n",
    "        return (\"x^\"+str(e))\n",
    "    else:\n",
    "        return (str(c)+\"x^\"+str(e))\n",
    "    \n",
    "def verPolinomio(p):\n",
    "    politexto=\"\"\n",
    "    if len(p)!=0:\n",
    "        politexto=verTermo(p[0])\n",
    "        for i in range(1,len(p)):\n",
    "            if p[i][0]>=0:\n",
    "                politexto =politexto +\"+\"+ verTermo(p[i])\n",
    "            else:\n",
    "                politexto = politexto + verTermo(p[i]) \n",
    "    return politexto\n",
    "    \n",
    "def calcGrau(p):\n",
    "    if p==[]:\n",
    "        print(\"None\") \n",
    "    else: \n",
    "        grau=p[0][1]\n",
    "        for i in range(1, len(p)):\n",
    "            if p[i][1]>grau:\n",
    "                grau=p[i][1]\n",
    "    return grau\n",
    "\n",
    "def calcPol(p,x):\n",
    "    res=0\n",
    "    for (c,e) in p:\n",
    "        res=res+ c*(x**e)\n",
    "    return res\n",
    "\n",
    "def derivar(p):\n",
    "    derivada=[]\n",
    "    if p==[]:\n",
    "        print(\"Erro\")\n",
    "    else:\n",
    "        for (c,e) in p:\n",
    "            if e != 0:\n",
    "                derivada.append((c*e,e-1))\n",
    "    return derivada\n",
    "\n",
    "def ordenar(p):\n",
    "    pnovo=[]\n",
    "    i=calcGrau(p)\n",
    "    while i>=0:\n",
    "        for (c,e) in p:\n",
    "            if e==i:\n",
    "                pnovo.append((c,e))\n",
    "        i=i-1\n",
    "    return pnovo\n",
    "        \n",
    "def simplificar(p):\n",
    "    pnovo=ordenar(p)\n",
    "    simplificada=[]\n",
    "    while len(pnovo)>1:    \n",
    "        res=pnovo[0]\n",
    "        del pnovo[0]\n",
    "        while (res[1]==pnovo[0][1]) and (len(pnovo)>1):\n",
    "            res=(res[0]+pnovo[0][0],pnovo[0][1])\n",
    "            del pnovo[0]\n",
    "        simplificada.append(res)\n",
    "        \n",
    "    if pnovo[0][1]==simplificada[-1][1]:\n",
    "        res=(res[0]+pnovo[0][0],pnovo[0][1])\n",
    "        simplificada[-1]=res\n",
    "    else:\n",
    "        simplificada.append(pnovo[0])\n",
    "    return simplificada\n",
    " \n",
    "def visualizarGraf(p,limitex,limitey):\n",
    "    import matplotlib.pyplot as plt\n",
    "    x=[n for n in range (-limitex,limitex)]\n",
    "    y=[]\n",
    "    pnovo=ordenar(p)\n",
    "    for n in x:\n",
    "        y.append(calcPol(pnovo,n))\n",
    "    plt.ylim(-limitey,limitey)\n",
    "    plt.plot(x, y, color='green')\n",
    "    plt.title('Polinomios')\n",
    "    plt.show()\n",
    "    \n",
    "def menu():    \n",
    "    print(\"\"\"\n",
    "Operações disponiveis:\n",
    "Operações disponiveis:\n",
    "(1)Criar um polinómio;\n",
    "(2)Ver polinómio atual;\n",
    "(3)Calcular o grau do polinómio;\n",
    "(4)Calcular o valor do polinómio num ponto;\n",
    "(5)Calcular a derivada do polinómio;\n",
    "(6)Simplificar o polinómio;\n",
    "(7)Visualizar o gráfico do polinómio;\n",
    "(0)Sair\"\"\")\n",
    "    ope=str(input(\"Insira a operação que pretende realizar: \"))\n",
    "    while ope!=\"0\":\n",
    "        if ope==\"1\":\n",
    "            P=criarPolinomio()\n",
    "\n",
    "        if ope==\"2\":\n",
    "            s=verPolinomio(P)\n",
    "            print(s)\n",
    "            \n",
    "        if ope==\"3\":\n",
    "            print(\"O grau do polinómio é: \", calcGrau(P)) \n",
    "        \n",
    "        if ope==\"4\":\n",
    "            x=int(input(\"Insira o valor para o qual quer calcular o polinómio: \"))\n",
    "            print(\"O valor do polinomio em \"+str(x)+\" é: \", calcPol(P,x))\n",
    "            \n",
    "        if ope==\"5\":\n",
    "            print(\"A derivada do polinomio \"+str(verPolinomio(P))+ \" é \"+str(verPolinomio(derivar(P))))\n",
    "            \n",
    "        if ope==\"6\":\n",
    "            print(simplificar(P))\n",
    "            print(\"O polinomio simplificado é: \", verPolinomio(simplificar(P)))\n",
    "            \n",
    "        if ope==\"7\":\n",
    "            xlim=int(input(\"Qual o intervalo em x que deseja visualizar? \"))\n",
    "            ylim=int(input(\"Qual o intervalo em y que deseja visualizar? \"))\n",
    "            visualizarGraf(P,xlim,ylim)\n",
    "            decisao=str(input(\"\"\"Está satizfeito com a janela de visualização escolhida? \n",
    "Insira (S) para voltar ao menu ou (N) para escolher uma nova janela de visualização. \"\"\"))\n",
    "            while decisao!=\"S\":\n",
    "                xlim=int(input(\"Qual o intervalo em x que deseja visualizar? \"))\n",
    "                ylim=int(input(\"Qual o intervalo em y que deseja visualizar? \"))\n",
    "                visualizarGraf(P,xlim,ylim)\n",
    "                decisao=str(input(\"\"\"Está satizfeito com a janela de visualização escolhida? \n",
    "Insira (S) para voltar ao menu ou (N) para escolher uma nova janela de visualização. \"\"\"))\n",
    "        print(\"\"\"\n",
    "Operações disponiveis:\n",
    "Operações disponiveis:\n",
    "(1)Criar um polinómio;\n",
    "(2)Ver polinómio atual;\n",
    "(3)Calcular o grau do polinómio;\n",
    "(4)Calcular o valor do polinómio num ponto;\n",
    "(5)Calcular a derivada do polinómio;\n",
    "(6)Simplificar o polinómio\n",
    "(7)Visualizar o gráfico do polinómio;\n",
    "(0)Sair\"\"\")\n",
    "        ope=str(input(\"Insira a operação que pretende realizar: \"))\n",
    "        \n",
    "menu()"
   ]
  },
  {
   "cell_type": "code",
   "execution_count": 18,
   "metadata": {},
   "outputs": [
    {
     "data": {
      "image/png": "[encoded data removed]",
      "text/plain": [
       "<Figure size 432x288 with 1 Axes>"
      ]
     },
     "metadata": {
      "needs_background": "light"
     },
     "output_type": "display_data"
    }
   ],
   "source": [
    "P=[(1,5),(-2,3)]\n",
    "visualizarGraf(P,10,100)"
   ]
  },
  {
   "cell_type": "code",
   "execution_count": null,
   "metadata": {},
   "outputs": [],
   "source": []
  }
 ],
 "metadata": {
  "kernelspec": {
   "display_name": "Python 3",
   "language": "python",
   "name": "python3"
  },
  "language_info": {
   "codemirror_mode": {
    "name": "ipython",
    "version": 3
   },
   "file_extension": ".py",
   "mimetype": "text/x-python",
   "name": "python",
   "nbconvert_exporter": "python",
   "pygments_lexer": "ipython3",
   "version": "3.8.3"
  }
 },
 "nbformat": 4,
 "nbformat_minor": 4
}
