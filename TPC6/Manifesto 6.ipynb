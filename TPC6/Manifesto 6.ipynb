{
 "cells": [
  {
   "cell_type": "markdown",
   "metadata": {},
   "source": [
    "**Identificador:** Trabalho de casa 6\n",
    "\n",
    "**Título:** Aplicação para manipulação de polinómios\n",
    "\n",
    "**Data Início:** 2021-11-20                                               **Data Fim:** 2021-11-23\n",
    "\n",
    "**Supervisor:** José Carlos Ramalho, https://www.di.uminho.pt/~jcr/       **Autor:** Ana Carolina Faria da Costa, A95694\n",
    "\n",
    "**Resumo:**\n",
    "\n",
    "Adição da função que permite visualizar o gráfico do polinómio e correção da função que simplifica o polinómio."
   ]
  },
  {
   "cell_type": "code",
   "execution_count": null,
   "metadata": {},
   "outputs": [],
   "source": []
  }
 ],
 "metadata": {
  "kernelspec": {
   "display_name": "Python 3",
   "language": "python",
   "name": "python3"
  },
  "language_info": {
   "codemirror_mode": {
    "name": "ipython",
    "version": 3
   },
   "file_extension": ".py",
   "mimetype": "text/x-python",
   "name": "python",
   "nbconvert_exporter": "python",
   "pygments_lexer": "ipython3",
   "version": "3.8.3"
  }
 },
 "nbformat": 4,
 "nbformat_minor": 4
}
